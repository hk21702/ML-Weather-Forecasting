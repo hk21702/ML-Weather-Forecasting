{
 "cells": [
  {
   "attachments": {},
   "cell_type": "markdown",
   "metadata": {},
   "source": [
    "### Imports "
   ]
  },
  {
   "cell_type": "code",
   "execution_count": 2,
   "metadata": {},
   "outputs": [],
   "source": [
    "\"\"\"\n",
    "Preprocessing of raw data from the ERA5 dataset to a useable state.\n",
    "\"\"\"\n",
    "\n",
    "import concurrent.futures\n",
    "import dataclasses\n",
    "import os\n",
    "import sys\n",
    "import time\n",
    "\n",
    "import cdsapi\n",
    "import numpy as np\n",
    "import pandas as pd\n",
    "import xarray as xr\n"
   ]
  },
  {
   "attachments": {},
   "cell_type": "markdown",
   "metadata": {},
   "source": [
    "Basic setup of paths"
   ]
  },
  {
   "cell_type": "code",
   "execution_count": 3,
   "metadata": {},
   "outputs": [],
   "source": [
    "FOLDER = 'data'"
   ]
  },
  {
   "cell_type": "code",
   "execution_count": 4,
   "metadata": {},
   "outputs": [],
   "source": [
    "def get_data(netcdf_folder: str) -> xr.Dataset:\n",
    "    \"\"\"Loads the NetCDF data\n",
    "\n",
    "    Args:\n",
    "        netcdf_folder (str): Path to the folder containing the NetCDF files\n",
    "\n",
    "    Returns:\n",
    "        xr.Dataset: The NetCDF data\n",
    "    \"\"\"\n",
    "    # Get the list of NetCDF files, only .nc files\n",
    "    netcdf_files = [os.path.join(netcdf_folder, file)\n",
    "                    for file in os.listdir(netcdf_folder) if file.endswith('.nc')]\n",
    "\n",
    "    assert netcdf_files, 'No NetCDF files found'\n",
    "\n",
    "    # Load the data\n",
    "    return xr.open_mfdataset(netcdf_files, combine='by_coords')\n",
    "\n",
    "data = get_data(FOLDER)\n",
    "\n",
    "# Get the list of variables\n",
    "variables = list(data.variables)"
   ]
  }
 ],
 "metadata": {
  "kernelspec": {
   "display_name": ".venv",
   "language": "python",
   "name": "python3"
  },
  "language_info": {
   "codemirror_mode": {
    "name": "ipython",
    "version": 3
   },
   "file_extension": ".py",
   "mimetype": "text/x-python",
   "name": "python",
   "nbconvert_exporter": "python",
   "pygments_lexer": "ipython3",
   "version": "3.10.5"
  },
  "orig_nbformat": 4
 },
 "nbformat": 4,
 "nbformat_minor": 2
}
